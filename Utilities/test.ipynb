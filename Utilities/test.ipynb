{
 "cells": [
  {
   "cell_type": "code",
   "execution_count": 1,
   "metadata": {},
   "outputs": [],
   "source": [
    "from chemdataextractor.model import  DrugSearch\n",
    "from chemdataextractor.doc import Document\n",
    "from chemdataextractor.doc.text import Paragraph\n",
    "\n",
    "import pandas as pd"
   ]
  },
  {
   "cell_type": "code",
   "execution_count": 18,
   "metadata": {},
   "outputs": [],
   "source": [
    "doc4 = Document(Paragraph('Gray mold, caused by Botrytis cinerea, is one of the major fungal diseases in crops. Botanical fungicides are preferred over chemical fungicides to control gray mold since they are less toxic to the environment and could reverse the resistance to chemical fungicides in pathogens. Cembratrien (CBT)-diols are carbocyclic diterpenes found in abundance in Nicotiana, especially in tobacco inflorescence, and possess a wide range of biological activities. In this study, the antifungal activities of two isomers of CBT-diols (α- and β-CBT-diols) against B. cinerea were evaluated in vitro and in vivo. In addition, the antifungal mechanism was studied on cytoderm, membrane system, and oxidative stress. Results showed that CBT-diols could inhibit wild and multi-resistant strains of B. cinerea, and the half-maximal effective concentration was within 9.67–16.38 μg/mL. The effects of α- and β-CBT-diols were similar but non-synergistic. The inhibition rate of CBT-diols (200 μg/mL) against B. cinerea in different fruits was between 71.9 and 84.2 %. The cellular structure of B. cinerea treated with CBT-diols was observed by scanning electron microscopy, transmission electron microscopy, Crystal violet-Congo red staining, and propidium iodide staining. Results showed that there was almost no change in cytoderm integrity; however, a significant damage to the membrane system integrity was observed, which led to disintegration of the organelles. Cembratrien-diols could increase the activity of chitinase, resulting in an accumulation of N-acetyl-d-glucosamine, which is a precursor for chitin biosynthesis. Cembratrien-diols caused significant increase in conductivity and cellular contents in the culture medium by increasing the membrane permeability of B. cinerea. Furthermore, CBT-diols decreased the levels of essential membrane components such as ergosterol and linoleic acid, but increased the malondialdehyde concentration, which indicated that CBT-diols damaged B. cinerea membrane and induced membrane lipid peroxidation. With growing research, it has been found that the damage to B. cinerea membrane system is mainly associated with the oxidative stress reaction induced by CBT-diols, due to the increase in reactive oxygen species levels and activities of catalase and peroxidase, and the decrease in superoxide dismutase activity and hydrogen peroxide content. The results provide a scientific foundation for the application of CBT-diols as an alternative biological agent against B. cinerea, which may ultimately promote organic fruits and vegetable crops production.'))\n",
    "doc4.models = [DrugSearch]\n"
   ]
  },
  {
   "cell_type": "code",
   "execution_count": 19,
   "metadata": {},
   "outputs": [],
   "source": [
    "results3 = doc4.records.serialize()\n",
    "df3 = pd.json_normalize(results3)"
   ]
  },
  {
   "cell_type": "code",
   "execution_count": 20,
   "metadata": {},
   "outputs": [
    {
     "data": {
      "text/html": [
       "<div>\n",
       "<style scoped>\n",
       "    .dataframe tbody tr th:only-of-type {\n",
       "        vertical-align: middle;\n",
       "    }\n",
       "\n",
       "    .dataframe tbody tr th {\n",
       "        vertical-align: top;\n",
       "    }\n",
       "\n",
       "    .dataframe thead th {\n",
       "        text-align: right;\n",
       "    }\n",
       "</style>\n",
       "<table border=\"1\" class=\"dataframe\">\n",
       "  <thead>\n",
       "    <tr style=\"text-align: right;\">\n",
       "      <th></th>\n",
       "      <th>DrugSearch.compound.Compound.names</th>\n",
       "      <th>DrugSearch.bioactivity</th>\n",
       "      <th>DrugSearch.target</th>\n",
       "    </tr>\n",
       "  </thead>\n",
       "  <tbody>\n",
       "    <tr>\n",
       "      <th>0</th>\n",
       "      <td>[CBT-diols]</td>\n",
       "      <td>['antifungal activities']</td>\n",
       "      <td>B. cinerea</td>\n",
       "    </tr>\n",
       "    <tr>\n",
       "      <th>1</th>\n",
       "      <td>[CBT-diols]</td>\n",
       "      <td>['effective']</td>\n",
       "      <td>B. cinerea</td>\n",
       "    </tr>\n",
       "    <tr>\n",
       "      <th>2</th>\n",
       "      <td>[CBT-diols]</td>\n",
       "      <td>['reactive']</td>\n",
       "      <td>B. cinerea</td>\n",
       "    </tr>\n",
       "  </tbody>\n",
       "</table>\n",
       "</div>"
      ],
      "text/plain": [
       "  DrugSearch.compound.Compound.names     DrugSearch.bioactivity  \\\n",
       "0                        [CBT-diols]  ['antifungal activities']   \n",
       "1                        [CBT-diols]              ['effective']   \n",
       "2                        [CBT-diols]               ['reactive']   \n",
       "\n",
       "  DrugSearch.target  \n",
       "0        B. cinerea  \n",
       "1        B. cinerea  \n",
       "2        B. cinerea  "
      ]
     },
     "execution_count": 20,
     "metadata": {},
     "output_type": "execute_result"
    }
   ],
   "source": [
    "df3"
   ]
  },
  {
   "cell_type": "code",
   "execution_count": 5,
   "metadata": {},
   "outputs": [],
   "source": [
    "\n",
    "doc3 = Document(Paragraph('''A simple one-step procedure for synthesis of 1-methoxy-1-oxoalkan-2-yl salicylates and 1-methoxy-1-oxoalkan-2-yl 2-[(1-methoxy-1-oxoalkan-2-yl)oxy]benzoates by reaction of salicylic acid with several methyl 2-bromoalkanoates\n",
    "was developed. The reactions were carried out in N,N-dimethylformamide (DMF) in the presence of anhydrous potassium carbonate. Conditions for regioselective synthesis of target compounds were established. The developed\n",
    "procedure could be easily applied in the industrial production process. The new salicylic acid derivatives were obtained with satisfactory yields and were characterized by MS and 1H NMR spectra. The fungicidal activity of the prepared compounds was tested in vitro against seven species of plant pathogenic fungi. The best results were\n",
    "observed for 1-methoxy-1-oxoalkan-2-yl salicylates which showed good activity against Botrytis cinerea and Rhizoctonia solani.\n",
    "'''))"
   ]
  },
  {
   "cell_type": "code",
   "execution_count": 6,
   "metadata": {},
   "outputs": [],
   "source": [
    "doc3.models = [DrugSearch]\n",
    "results2 = doc3.records.serialize()"
   ]
  },
  {
   "cell_type": "code",
   "execution_count": 7,
   "metadata": {},
   "outputs": [
    {
     "data": {
      "text/html": [
       "<div>\n",
       "<style scoped>\n",
       "    .dataframe tbody tr th:only-of-type {\n",
       "        vertical-align: middle;\n",
       "    }\n",
       "\n",
       "    .dataframe tbody tr th {\n",
       "        vertical-align: top;\n",
       "    }\n",
       "\n",
       "    .dataframe thead th {\n",
       "        text-align: right;\n",
       "    }\n",
       "</style>\n",
       "<table border=\"1\" class=\"dataframe\">\n",
       "  <thead>\n",
       "    <tr style=\"text-align: right;\">\n",
       "      <th></th>\n",
       "    </tr>\n",
       "  </thead>\n",
       "  <tbody>\n",
       "  </tbody>\n",
       "</table>\n",
       "</div>"
      ],
      "text/plain": [
       "Empty DataFrame\n",
       "Columns: []\n",
       "Index: []"
      ]
     },
     "execution_count": 7,
     "metadata": {},
     "output_type": "execute_result"
    }
   ],
   "source": [
    "df2 = pd.json_normalize(results2)\n",
    "df2"
   ]
  },
  {
   "cell_type": "code",
   "execution_count": null,
   "metadata": {},
   "outputs": [],
   "source": [
    "doc4 = Document(Paragraph('In this work, the transformation of soybean industrial bio-residue with limited practical applications, into a multifunctional carbonaceous adsorbent (SBAC) via one-step microwave-irradiation has been succeeded. The surface porosity, chemical compositions, functionalities and surface chemistry were featured by microscopic pore-textural analysis, elemental constitution analysis, morphological characterization and Fourier transform infra-red spectroscopy. The adsorptive performance of SBAC was evaluated in a batch experiment by adopting different classes of water pollutants, specifically methylene blue (MB), acetaminophen and 2,4-dichlorophenoxyacetic acid (2,4-D). The equilibrium uptakes were analyzed with respect to the non-linearized Langmuir, Freundlich and Temkin isotherm equations. The unique features of SBAC, specifically the antimicrobial and antifungal efficacies were examined against gram-positive/negative bacteria and fungi species. An ordered microporous-mesoporous structure of SBAC, with the BET surface area and total pore volume of 1696 m2/g and 0.94 m3/g, respectively, has been achieved. The equilibrium data of MB and acetaminophen were found to be in good agreement with the Langmuir isotherm model, with the monolayer adsorption capacities (Qo) of 434.57 mg/g and 393.31 mg/g, respectively. The adsorptive experiment of 2,4-D was best fitted to the Freundlich isotherm equation, with the Qo of 253.17 mg/g. The regeneration performance of the spent SBAC under microwave-irradiation could maintain at 69.42–79.31%, even after five (5) adsorption-regeneration cycles. SBAC exhibited excellent inhibition efficiencies against gram-positive/negative bacteria and fungi species, with the inhibition zones at 14.0–28.0 mm. This newly developed SBAC appears to be a new powerful candidate for the remediation of different classes of water contaminants, and novel antibacterial and antifungal agents against biological contaminations. The novel concept of “turn waste into wealth” in a cost-effective and energy saving manner for environmental preservation has been successfully accomplished.'))\n",
    "doc4.models = [DrugSearch]"
   ]
  },
  {
   "cell_type": "code",
   "execution_count": null,
   "metadata": {},
   "outputs": [],
   "source": [
    "results4 = doc4.records.serialize()\n",
    "df4 = pd.json_normalize(results4)"
   ]
  },
  {
   "cell_type": "code",
   "execution_count": null,
   "metadata": {},
   "outputs": [],
   "source": [
    "df4"
   ]
  },
  {
   "cell_type": "code",
   "execution_count": null,
   "metadata": {},
   "outputs": [],
   "source": [
    "doc5 = Document(Paragraph('A novel simple 1,3,4-oxadiazole-2-carbohydrazide was reported to discover low-cost and versatile antifungal agents. Bioassay results suggested that a majority of the designed compounds were extremely bioactive against four types of fungi and two kinds of oomycetes. This extreme bioactivity was highlighted by the applausive inhibitory effects of compounds 4b, 4h, 5c, 5g, 5h, 5i, 5m, 5p, 5t, and 5v against Gibberella zeae, affording EC50 values ranging from 0.486 to 0.799 μg/mL, which were superior to that of fluopyram (2.96 μg/mL) and comparable to those of carbendazim (0.947 μg/mL) and prochloraz (0.570 μg/mL). Meanwhile, compounds 4g, 5f, 5i, and 5t showed significant actions against Fusarium oxysporum with EC50 values of 0.652, 0.706, 0.813, and 0.925 μg/mL, respectively. Pharmacophore exploration suggested that the N′-phenyl-1,3,4-oxadiazole-2-carbohydrazide pattern is necessary for the bioactivity. Molecular docking of 5h with succinate dehydrogenase (SDH) indicated that it can completely locate the inside of the binding pocket via hydrogen-bonding and hydrophobic interactions, revealing that this novel framework might target SDH. This result was further verified by the significant inhibitory effect on SDH activity. In addition, scanning electron microscopy patterns were performed to elucidate the anti-G. zeae mechanism. Given these features, this type of framework is a suitable template for future exploration of alternative SDH inhibitors against plant microbial infections.'))\n",
    "doc5.models = [DrugSearch]"
   ]
  },
  {
   "cell_type": "code",
   "execution_count": null,
   "metadata": {},
   "outputs": [],
   "source": [
    "results5 = doc5.records.serialize()\n",
    "df5 = pd.json_normalize(results5)"
   ]
  },
  {
   "cell_type": "code",
   "execution_count": null,
   "metadata": {},
   "outputs": [],
   "source": [
    "df5"
   ]
  },
  {
   "cell_type": "code",
   "execution_count": null,
   "metadata": {},
   "outputs": [],
   "source": [
    "doc6 = Document(Paragraph('3-(Substituted phenyl)-5-acyloxymethyl-2H,5H-furan-2-ones related to the natural product (−)incrustoporine were synthesized and their in vitro antifungal activity evaluated. The compounds with halogen substituents on the phenyl ring displayed much higher antifungal effect against Aspergillus fumigatus than selected representatives of azole antifungal drugs. In particular, the activity (1.34 μg/mL) of the most promising derivative, 3-(3,4-dichlorophenyl)-5-pivaloyloxymethyl-2H,5H-furan-2-one, was comparable to that of amphotericin B (0.5 μg/mL). Preliminary evaluation of the toxicity of the compound was carried out as well. Considering the size and properties of these molecules in comparison with those of amphotericin B, further development of this novel group of antifungals may lead to substances with better pharmacological profiles than that of the standard anti-Aspergillus drug.'))\n",
    "doc6.models = [DrugSearch]"
   ]
  },
  {
   "cell_type": "code",
   "execution_count": null,
   "metadata": {},
   "outputs": [],
   "source": [
    "results6 = doc6.records.serialize()\n",
    "df6 = pd.json_normalize(results6)"
   ]
  },
  {
   "cell_type": "code",
   "execution_count": null,
   "metadata": {},
   "outputs": [],
   "source": [
    "df6"
   ]
  },
  {
   "cell_type": "code",
   "execution_count": null,
   "metadata": {},
   "outputs": [],
   "source": [
    "doc7 = Document(Paragraph('Aspirine is highly active. Acetoaminophen is an extremely good inhibition drug. Streptomycin have a extremely activity. Kanamycin is very potent against peo. Paracetamol showed good activity'))\n",
    "doc7.models =[DrugSearch]"
   ]
  },
  {
   "cell_type": "code",
   "execution_count": null,
   "metadata": {},
   "outputs": [],
   "source": [
    "results7 = doc7.records.serialize()\n",
    "df7 = pd.json_normalize(results7)"
   ]
  },
  {
   "cell_type": "code",
   "execution_count": null,
   "metadata": {},
   "outputs": [],
   "source": [
    "df7"
   ]
  }
 ],
 "metadata": {
  "interpreter": {
   "hash": "2137528a52860de379269f19136d2123cccc8b32aee3c04201ad0863063dfc59"
  },
  "kernelspec": {
   "display_name": "Python 3.7.9 ('text_mining')",
   "language": "python",
   "name": "python3"
  },
  "language_info": {
   "codemirror_mode": {
    "name": "ipython",
    "version": 3
   },
   "file_extension": ".py",
   "mimetype": "text/x-python",
   "name": "python",
   "nbconvert_exporter": "python",
   "pygments_lexer": "ipython3",
   "version": "3.7.9"
  },
  "orig_nbformat": 4
 },
 "nbformat": 4,
 "nbformat_minor": 2
}
