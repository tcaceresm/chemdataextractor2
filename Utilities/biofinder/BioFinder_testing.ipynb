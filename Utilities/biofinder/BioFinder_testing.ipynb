{
 "cells": [
  {
   "cell_type": "markdown",
   "metadata": {},
   "source": [
    "# Notebook para evaluar los resultados del modelo basado en ChemDataExtractor\n",
    "(http://www.chemdataextractor2.org/) (https://github.com/CambridgeMolecularEngineering/chemdataextractor2)"
   ]
  },
  {
   "cell_type": "code",
   "execution_count": 2,
   "metadata": {},
   "outputs": [],
   "source": [
    "#Importación de modulos\n",
    "\n",
    "from chemdataextractor.model import  DrugSearch\n",
    "from chemdataextractor.doc import Document\n",
    "from chemdataextractor.doc.text import Paragraph\n",
    "\n",
    "import pandas as pd"
   ]
  },
  {
   "cell_type": "code",
   "execution_count": 3,
   "metadata": {},
   "outputs": [],
   "source": [
    "#Dentro de paragraph agregamos el texto\n",
    "texto = '''A simple one-step procedure for synthesis of 1-methoxy-1-oxoalkan-2-yl salicylates and 1-methoxy-1-oxoalkan-2-yl 2-[(1-methoxy-1-oxoalkan-2-yl)oxy]benzoates by reaction of salicylic acid with several methyl 2-bromoalkanoates was developed. The reactions were carried out in N,N-dimethylformamide (DMF) in the presence of anhydrous potassium carbonate. Conditions for regioselective synthesis of target compounds were established. The developed procedure could be easily applied in the industrial production process. The new salicylic acid derivatives were obtained with satisfactory yields and were characterized by MS and 1H NMR spectra. The fungicidal activity of the prepared compounds was tested in vitro against seven species of plant pathogenic fungi. The best results were observed for 1-methoxy-1-oxoalkan-2-yl salicylates which showed good activity against Botrytis cinerea and Rhizoctonia solani.\n",
    "'''\n",
    "doc1 = Document(Paragraph(texto)) "
   ]
  },
  {
   "cell_type": "code",
   "execution_count": 4,
   "metadata": {},
   "outputs": [
    {
     "name": "stdout",
     "output_type": "stream",
     "text": [
      "\u001b[KInitialising AllenNLP model ✔\u001b[0m[K\u001b[?25h\n"
     ]
    }
   ],
   "source": [
    "doc1.models = [DrugSearch]\n",
    "results1 = doc1.records.serialize()"
   ]
  },
  {
   "cell_type": "code",
   "execution_count": 5,
   "metadata": {},
   "outputs": [
    {
     "data": {
      "text/html": [
       "<div>\n",
       "<style scoped>\n",
       "    .dataframe tbody tr th:only-of-type {\n",
       "        vertical-align: middle;\n",
       "    }\n",
       "\n",
       "    .dataframe tbody tr th {\n",
       "        vertical-align: top;\n",
       "    }\n",
       "\n",
       "    .dataframe thead th {\n",
       "        text-align: right;\n",
       "    }\n",
       "</style>\n",
       "<table border=\"1\" class=\"dataframe\">\n",
       "  <thead>\n",
       "    <tr style=\"text-align: right;\">\n",
       "      <th></th>\n",
       "      <th>DrugSearch.compound.Compound.names</th>\n",
       "      <th>DrugSearch.compound.Compound.roles</th>\n",
       "      <th>DrugSearch.bioactivity</th>\n",
       "      <th>DrugSearch.target</th>\n",
       "    </tr>\n",
       "  </thead>\n",
       "  <tbody>\n",
       "    <tr>\n",
       "      <th>0</th>\n",
       "      <td>[1-methoxy-1-oxoalkan-2-yl salicylates]</td>\n",
       "      <td>[product]</td>\n",
       "      <td>good activity</td>\n",
       "      <td>Botrytis</td>\n",
       "    </tr>\n",
       "    <tr>\n",
       "      <th>1</th>\n",
       "      <td>[1-methoxy-1-oxoalkan-2-yl salicylates]</td>\n",
       "      <td>[product]</td>\n",
       "      <td>good activity</td>\n",
       "      <td>Rhizoctonia</td>\n",
       "    </tr>\n",
       "  </tbody>\n",
       "</table>\n",
       "</div>"
      ],
      "text/plain": [
       "        DrugSearch.compound.Compound.names DrugSearch.compound.Compound.roles  \\\n",
       "0  [1-methoxy-1-oxoalkan-2-yl salicylates]                          [product]   \n",
       "1  [1-methoxy-1-oxoalkan-2-yl salicylates]                          [product]   \n",
       "\n",
       "  DrugSearch.bioactivity DrugSearch.target  \n",
       "0          good activity          Botrytis  \n",
       "1          good activity       Rhizoctonia  "
      ]
     },
     "execution_count": 5,
     "metadata": {},
     "output_type": "execute_result"
    }
   ],
   "source": [
    "df1 = pd.json_normalize(results1)\n",
    "df1"
   ]
  }
 ],
 "metadata": {
  "kernelspec": {
   "display_name": "Python 3.7.13 ('cde2')",
   "language": "python",
   "name": "python3"
  },
  "language_info": {
   "codemirror_mode": {
    "name": "ipython",
    "version": 3
   },
   "file_extension": ".py",
   "mimetype": "text/x-python",
   "name": "python",
   "nbconvert_exporter": "python",
   "pygments_lexer": "ipython3",
   "version": "3.7.13"
  },
  "orig_nbformat": 4,
  "vscode": {
   "interpreter": {
    "hash": "5b5120ffe0361e971240d6d9e76aa0d381cde88f851561a4183bfff41432ea29"
   }
  }
 },
 "nbformat": 4,
 "nbformat_minor": 2
}
